{
 "cells": [
  {
   "cell_type": "markdown",
   "metadata": {},
   "source": [
    "## Takes the generated snippets and converts them to spectrograms\n",
    "Spectrograms are created using the librosa library, in the original notebook at publicaly availabe \n",
    "audiobook of 'The Time Machine' was used to generate snippets and consequent spectrograms."
   ]
  },
  {
   "cell_type": "code",
   "execution_count": 4,
   "metadata": {},
   "outputs": [],
   "source": [
    "import numpy as np\n",
    "import librosa\n",
    "import librosa.display\n",
    "from os import listdir"
   ]
  },
  {
   "cell_type": "code",
   "execution_count": 3,
   "metadata": {},
   "outputs": [
    {
     "name": "stdout",
     "output_type": "stream",
     "text": [
      "Successfully installed appdirs-1.4.4 audioread-3.0.0 librosa-0.9.2 llvmlite-0.39.1 numba-0.56.4 pooch-1.6.0 resampy-0.4.2\n"
     ]
    }
   ],
   "source": [
    "!pip install librosa"
   ]
  },
  {
   "cell_type": "markdown",
   "metadata": {},
   "source": [
    "reading the locally saved file and plotting the original waveform using matplot and scipy"
   ]
  },
  {
   "cell_type": "code",
   "execution_count": 5,
   "metadata": {},
   "outputs": [
    {
     "ename": "FileNotFoundError",
     "evalue": "[Errno 2] No such file or directory: 'time_machine_split/s_7.wav'",
     "output_type": "error",
     "traceback": [
      "\u001b[0;31m---------------------------------------------------------------------------\u001b[0m",
      "\u001b[0;31mFileNotFoundError\u001b[0m                         Traceback (most recent call last)",
      "Cell \u001b[0;32mIn [5], line 5\u001b[0m\n\u001b[1;32m      2\u001b[0m \u001b[39mimport\u001b[39;00m \u001b[39mmatplotlib\u001b[39;00m\u001b[39m.\u001b[39;00m\u001b[39mpyplot\u001b[39;00m \u001b[39mas\u001b[39;00m \u001b[39mplt\u001b[39;00m\n\u001b[1;32m      4\u001b[0m split_dir \u001b[39m=\u001b[39m \u001b[39m'\u001b[39m\u001b[39mtime_machine_split\u001b[39m\u001b[39m'\u001b[39m\n\u001b[0;32m----> 5\u001b[0m input_data \u001b[39m=\u001b[39m read(\u001b[39mf\u001b[39m\u001b[39m'\u001b[39m\u001b[39m{\u001b[39;00msplit_dir\u001b[39m}\u001b[39;00m\u001b[39m/s_7.wav\u001b[39m\u001b[39m'\u001b[39m)\n\u001b[1;32m      6\u001b[0m audio \u001b[39m=\u001b[39m input_data[\u001b[39m1\u001b[39m]\n\u001b[1;32m      7\u001b[0m plt\u001b[39m.\u001b[39mplot(audio)\n",
      "File \u001b[0;32m~/.pyenv/versions/lewagon/lib/python3.10/site-packages/scipy/io/wavfile.py:647\u001b[0m, in \u001b[0;36mread\u001b[0;34m(filename, mmap)\u001b[0m\n\u001b[1;32m    645\u001b[0m     mmap \u001b[39m=\u001b[39m \u001b[39mFalse\u001b[39;00m\n\u001b[1;32m    646\u001b[0m \u001b[39melse\u001b[39;00m:\n\u001b[0;32m--> 647\u001b[0m     fid \u001b[39m=\u001b[39m \u001b[39mopen\u001b[39;49m(filename, \u001b[39m'\u001b[39;49m\u001b[39mrb\u001b[39;49m\u001b[39m'\u001b[39;49m)\n\u001b[1;32m    649\u001b[0m \u001b[39mtry\u001b[39;00m:\n\u001b[1;32m    650\u001b[0m     file_size, is_big_endian \u001b[39m=\u001b[39m _read_riff_chunk(fid)\n",
      "\u001b[0;31mFileNotFoundError\u001b[0m: [Errno 2] No such file or directory: 'time_machine_split/s_7.wav'"
     ]
    }
   ],
   "source": [
    "from scipy.io.wavfile import read\n",
    "import matplotlib.pyplot as plt\n",
    "\n",
    "split_dir = 'time_machine_split'\n",
    "input_data = read(f'{split_dir}/s_7.wav')\n",
    "audio = input_data[1]\n",
    "plt.plot(audio)"
   ]
  },
  {
   "cell_type": "markdown",
   "metadata": {},
   "source": [
    "#### Librosa and Spectrograms\n",
    "using librosa to load the .wav files, librosa loads it as a tupple: (y: signal, sr: default sampling rate),\n",
    "we overwrite default sr to the real sr of our files"
   ]
  },
  {
   "cell_type": "code",
   "execution_count": null,
   "metadata": {},
   "outputs": [],
   "source": [
    "y, sr = librosa.load(\"time_machine_split/s_7.wav\")[0], 44100"
   ]
  },
  {
   "cell_type": "markdown",
   "metadata": {},
   "source": [
    "Generating the spectrogram data"
   ]
  },
  {
   "cell_type": "code",
   "execution_count": null,
   "metadata": {},
   "outputs": [],
   "source": [
    "S = librosa.feature.melspectrogram(y=y, sr=sr)"
   ]
  },
  {
   "cell_type": "markdown",
   "metadata": {},
   "source": [
    "S_db: converting magitude to the decibel scale (better resolution of the picture)\n",
    "librosa.display creates an image inside our pyplot figure"
   ]
  },
  {
   "cell_type": "code",
   "execution_count": null,
   "metadata": {},
   "outputs": [],
   "source": [
    "import matplotlib.pyplot as plt\n",
    "\n",
    "\n",
    "S_dB = librosa.power_to_db(S, ref=np.max)\n",
    "\n",
    "plt.figure()\n",
    "librosa.display.specshow(S_dB)\n",
    "\n",
    "plt.savefig(\"original_sg/s_7.jpg\")\n",
    "plt.show()"
   ]
  },
  {
   "cell_type": "code",
   "execution_count": null,
   "metadata": {},
   "outputs": [],
   "source": [
    "def gen_melsg(wav_file_path):\n",
    "    '''\n",
    "    generating a mel spectrogram based on the filepath\n",
    "    '''\n",
    "    y, sr = librosa.load(wav_file_path)[0], 44100\n",
    "    return librosa.feature.melspectrogram(y=y, sr=sr)"
   ]
  },
  {
   "cell_type": "code",
   "execution_count": null,
   "metadata": {},
   "outputs": [],
   "source": [
    "def gen_save_fig(melsg,target_dir,name='pic_0'):\n",
    "    '''\n",
    "    saving the generated figure,\n",
    "    \n",
    "    target_dir: target directory where the file is saved\n",
    "    name: filename\n",
    "    melsg: mel spectrogram, using gen_melsg() function\n",
    "    '''\n",
    "    S_dB = librosa.power_to_db(melsg, ref=np.max)\n",
    "    plt.figure()\n",
    "    librosa.display.specshow(S_dB)\n",
    "    plt.savefig(f'{target_dir}/{name}.jpg')\n",
    "    plt.close()"
   ]
  },
  {
   "cell_type": "markdown",
   "metadata": {},
   "source": [
    "### Spectrogram based on local data using gen_melsg and gen_save_fig functions"
   ]
  },
  {
   "cell_type": "code",
   "execution_count": null,
   "metadata": {},
   "outputs": [],
   "source": [
    "gen_save_fig(gen_melsg('time_machine_split/s_0.wav'),'original_sg','s_0')"
   ]
  },
  {
   "cell_type": "markdown",
   "metadata": {},
   "source": [
    "#### Mass spectrogram generation"
   ]
  },
  {
   "cell_type": "code",
   "execution_count": null,
   "metadata": {},
   "outputs": [],
   "source": [
    "def save_all_sg(source_dir,target_dir=None):    \n",
    "    '''\n",
    "    generates mel spectrogram for all the files in the snippets directory\n",
    "    the spectrograms are saved using the same name as the .wav file to \n",
    "    make it easier to match each snippet to a given spectrogram\n",
    "    \n",
    "    source_dir: directory from where snippets are sourced from\n",
    "    target_dir: directory where the spectrograms will be saved\n",
    "    '''\n",
    "    splits_list = listdir(source_dir)\n",
    "    for filename in splits_list:\n",
    "        wav_path = f'{source_dir}/{filename}'\n",
    "        S= gen_melsg(wav_path)\n",
    "        pic_name = filename.replace('.wav','')\n",
    "        gen_save_fig(S, target_dir, pic_name)"
   ]
  },
  {
   "cell_type": "code",
   "execution_count": null,
   "metadata": {},
   "outputs": [],
   "source": [
    "# save_all_sg('time_machine_split', 'original_sg')"
   ]
  },
  {
   "cell_type": "markdown",
   "metadata": {},
   "source": [
    "### If the process of snippets was interupted, following functions can be used to indentify unused .wav files and generate missing spectrograms"
   ]
  },
  {
   "cell_type": "code",
   "execution_count": null,
   "metadata": {},
   "outputs": [],
   "source": [
    "def diff_list(wav_dir, jpg_dir):\n",
    "    '''\n",
    "    in case something interupts the saving of the files and a comparison between \n",
    "    two directories has to be made, this function generates a list of filenames \n",
    "    (no extensions) by which source directory differs from the target\n",
    "    '''\n",
    "    s1 = set([file.replace('.wav','') for file in listdir(wav_dir)])\n",
    "    s2 = set([file.replace('.jpg','') for file in listdir(jpg_dir)])\n",
    "    \n",
    "    return s1-s2\n",
    "    "
   ]
  },
  {
   "cell_type": "code",
   "execution_count": null,
   "metadata": {},
   "outputs": [],
   "source": [
    "def save_diff(diff_list,source_dir, target_dir=None):\n",
    "    '''\n",
    "    saves the files that exist in the source directory but are not saved\n",
    "    as spectrograms in the target directory\n",
    "    '''\n",
    "    for filename in diff_list:\n",
    "        wav_path = f'{source_dir}/{filename}.wav'\n",
    "        S= gen_melsg(wav_path)\n",
    "        gen_save_fig(S, target_dir, filename)"
   ]
  }
 ],
 "metadata": {
  "kernelspec": {
   "display_name": "Python 3.10.6 64-bit ('shims')",
   "language": "python",
   "name": "python3"
  },
  "language_info": {
   "codemirror_mode": {
    "name": "ipython",
    "version": 3
   },
   "file_extension": ".py",
   "mimetype": "text/x-python",
   "name": "python",
   "nbconvert_exporter": "python",
   "pygments_lexer": "ipython3",
   "version": "3.10.6"
  },
  "orig_nbformat": 4,
  "vscode": {
   "interpreter": {
    "hash": "e588d92b224e11b16adbbadd39936dea13a6488171770263a646fc57f44563d8"
   }
  }
 },
 "nbformat": 4,
 "nbformat_minor": 2
}
